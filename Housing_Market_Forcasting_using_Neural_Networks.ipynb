{
  "nbformat": 4,
  "nbformat_minor": 0,
  "metadata": {
    "colab": {
      "provenance": [],
      "gpuType": "T4"
    },
    "kernelspec": {
      "name": "python3",
      "display_name": "Python 3"
    },
    "language_info": {
      "name": "python"
    },
    "accelerator": "GPU"
  },
  "cells": [
    {
      "cell_type": "markdown",
      "source": [
        "# Housing Market Forecasting Using Neural Networks\n",
        "\n",
        "Purchasing or selling a house is a major financial decision. Home prices vary based on factors such as square footage and location, but they also fluctuate seasonally. To add a layer of complexity, they are also influenced by a number of other factors that are difficult to predict, such as a global pandemic leading to large population shifts [1] or rapid interest rate increases making mortgages less affordable [2]. The goal of this project is to lay the groundwork to use deep learning to make short-term housing price predictions, 1 month out, based on publicly available time series data that is routinely measured. The thinking is that even the most current housing data lags by about a month, so a precise one-month estimate could give someone a better reflection of the value of the home they wish to buy/sell. In turbulent markets, accurate short-term predictions could be beneficial to buyers and sellers for several reasons.\n",
        "\n",
        "* Benefits to sellers:\n",
        "  * If home values are decreasing and a home is priced too high because of a downward shift in the market, it might sit on the market and increase the current owners' holding costs.\n",
        "  * If home values are increasing, the homeowner might list their home for less than what they could have gotten for it.\n",
        "\n",
        "* Benefits to buyers:\n",
        "  * If home values are decreasing and a buyer puts in an offer that is too high, they may be paying more for the home than necessary. Even if they can afford the offer price with their current down payment, if the home does not appraise at the offer price, they may have to put more money down to close or look for a different property.\n",
        "  * If home prices are trending upward, buyers run the risk of not getting their offers accepted if they are putting in offers that are low.\n",
        "\n",
        "You can access this notebook and all CSV files used for the project from my GitHub repository [here](https://github.com/arwhit/housing-market-forcasting-NN).\n",
        "\n",
        "Details about how the Zillow datasets are produced and access to the most up-to-date data can be found [here](https://www.zillow.com/research/data/).\n",
        "\n",
        "A comprehensive list of sources is provided at the end of the notebook."
      ],
      "metadata": {
        "id": "F8EPNF83wMc4"
      }
    },
    {
      "cell_type": "code",
      "execution_count": 86,
      "metadata": {
        "id": "F5ipO5zKuB9X"
      },
      "outputs": [],
      "source": [
        "#Import Libraries and Packages\n",
        "import pandas as pd\n",
        "import numpy as np\n",
        "import matplotlib.pyplot as plt\n",
        "import seaborn as sns\n",
        "from datetime import datetime\n",
        "import keras\n",
        "from keras.models import Sequential\n",
        "from keras.layers import LSTM, GRU, Dense, Dropout, Activation\n",
        "import tensorflow as tf"
      ]
    },
    {
      "cell_type": "markdown",
      "source": [
        "## Data Description\n",
        "\n",
        "If you have been reviewing other projects hosted on my GitHub, these datasets will probably look familiar to you. I have used similar datasets for projects involving Decision Tree classification and Principal Component Analysis in the past. If this is your first time seeing the Zillow datasets [3], here is a summary:\n",
        "\n",
        "**Home Values (HV)**:\n",
        "\n",
        "* This dataset is composed of historical monthly prices from February 1996 to July 2023, 330 months (columns) for 894 metro areas (rows).\n",
        "* In total, the dataset contains 246,014 time series data points and 49,006 missing values.\n",
        "* The dataset also contains five categorical columns:\n",
        "    * RegionID\n",
        "    * SizeRank\n",
        "    * RegionName\n",
        "    * RegionType\n",
        "    * StateName\n",
        "\n",
        "**Days to Pending (DTP)**:\n",
        "\n",
        "* This dataset is composed of historical monthly data for 773 metro areas (rows) from January 2018 to July 2023, 67 months (columns).\n",
        "* In total, the dataset contains 34,611 time series data points and 17,180 missing values.\n",
        "* The dataset also contains five categorical columns:\n",
        "    * RegionID\n",
        "    * SizeRank\n",
        "    * RegionName\n",
        "    * RegionType\n",
        "    * StateName\n",
        "\n",
        "**Inventory (INV)**:\n",
        "\n",
        "* This dataset contains historical monthly inventory data for 927 metro areas (rows) from January 2018 to July 2023, 67 months (columns).\n",
        "* In total, the dataset contains 60,850 time series data points and 1,259 missing values.\n",
        "* The dataset also contains five categorical columns:\n",
        "    * RegionID\n",
        "    * SizeRank\n",
        "    * RegionName\n",
        "    * RegionType\n",
        "    * StateName\n",
        "\n",
        "**Sales to List Price Ratio (STL)**:\n",
        "\n",
        "* This dataset contains the monthly sell to list price ratio for 520 metro areas (rows) from January 2018 to June 2023, 66 months (columns).\n",
        "* In total, the dataset contains 25,114 time series data points and 9,206 missing values.\n",
        "* The dataset also contains five categorical columns:\n",
        "    * RegionID\n",
        "    * SizeRank\n",
        "    * RegionName\n",
        "    * RegionType\n",
        "    * StateName\n",
        "\n",
        "It is important to note that the Zillow Home Value Index is itself an estimate, but is arguably the most comprehensive and data driven estimate publically available. For the purposes of this project, it will be assumed to be the actual market value."
      ],
      "metadata": {
        "id": "SC5Fa7Ks04AS"
      }
    },
    {
      "cell_type": "code",
      "source": [
        "#Import Data\n",
        "#Home Values\n",
        "hv_url='https://raw.githubusercontent.com/arwhit/housing-market-forcasting-NN/main/Metro_ZHVI_AUG_14th_23.csv'\n",
        "hv_df=pd.read_csv(hv_url)\n",
        "hv_missing=hv_df.isna().sum().sum()\n",
        "#Days to pending data\n",
        "dtp_url='https://raw.githubusercontent.com/arwhit/housing-market-forcasting-NN/main/Metro_Mean_DTP_AUG_14th_23.csv'\n",
        "dtp_df=pd.read_csv(dtp_url)\n",
        "dtp_missing=dtp_df.isna().sum().sum()\n",
        "# Sale to List Price Ratio\n",
        "stl_url='https://raw.githubusercontent.com/arwhit/housing-market-forcasting-NN/main/Metro_Mean_STL_AUG_14th_23.csv'\n",
        "stl_df=pd.read_csv(stl_url)\n",
        "stl_missing=stl_df.isna().sum().sum()\n",
        "#Inventory\n",
        "inv_url='https://raw.githubusercontent.com/arwhit/housing-market-forcasting-NN/main/Metro_FS_Inventory_AUG_14th_23.csv'\n",
        "inv_df=pd.read_csv(inv_url)\n",
        "inv_missing=inv_df.isna().sum().sum()\n"
      ],
      "metadata": {
        "id": "BDTlp9e7w1ha"
      },
      "execution_count": 87,
      "outputs": []
    },
    {
      "cell_type": "markdown",
      "source": [
        "## Data Cleaning\n",
        "We need to do a little bit of cleaning up before we do any meaningful exploratory data analysis. For this project, we are only going to look at home values in the New York City Metro area. The US average and all other metro areas will be dropped.\n",
        "\n",
        "The sales to list ratio dataset trails the other datasets by one month, so the July 2023 data will be dropped.\n",
        "\n",
        "The monthly data from February 1996 to December 2017 will be dropped from the HV dataset since the monthly data from the other datasets is not available for that time period.\n",
        "\n",
        "Lastly, we will merge everything into one dataframe and preview what it looks like."
      ],
      "metadata": {
        "id": "qDF_vBFL-JQE"
      }
    },
    {
      "cell_type": "code",
      "source": [
        "#Clean Datasets\n",
        "\n",
        "#drop columns that will not be used, also drop monthly data not in all datasets\n",
        "hv_df.drop(['RegionID','RegionName','SizeRank','RegionType','StateName','2023-07-31'], axis=1, inplace=True)\n",
        "begin_drop=hv_df.columns.get_loc('1996-02-29')\n",
        "end_drop=hv_df.columns.get_loc('2017-12-31')\n",
        "hv_df.drop(hv_df.columns[begin_drop:(end_drop+1)], axis=1, inplace=True)\n",
        "dtp_df.drop(['RegionID','RegionName','SizeRank','RegionType','StateName','2023-07-31'], axis=1, inplace=True)\n",
        "inv_df.drop(['RegionID','RegionName','SizeRank','RegionType','StateName','2023-07-31'], axis=1, inplace=True)\n",
        "stl_df.drop(['RegionID','RegionName','SizeRank','RegionType','StateName'], axis=1, inplace=True)\n",
        "\n",
        "#Retain Only NYC Data\n",
        "HV=hv_df.iloc[1]\n",
        "DTP=dtp_df.iloc[1]\n",
        "INV=inv_df.iloc[1]\n",
        "STL=stl_df.iloc[1]\n",
        "\n",
        "#Combine Datasets\n",
        "df = pd.concat([HV, DTP, INV, STL], keys=['HV', 'DTP', 'INV', 'STL'], axis=1)\n",
        "df = df.reset_index().rename(columns={'index': 'Date'})\n",
        "df.head()"
      ],
      "metadata": {
        "colab": {
          "base_uri": "https://localhost:8080/",
          "height": 206
        },
        "id": "PCa_FTyf-J2Y",
        "outputId": "3e422542-3975-4f8f-c192-bb63115fe159"
      },
      "execution_count": 88,
      "outputs": [
        {
          "output_type": "execute_result",
          "data": {
            "text/plain": [
              "         Date             HV   DTP      INV       STL\n",
              "0  2018-01-31  434168.607328  73.0  66530.0  0.975376\n",
              "1  2018-02-28  433237.046452  68.0  74575.0  0.975660\n",
              "2  2018-03-31  435337.236215  63.0  80016.0  0.978424\n",
              "3  2018-04-30  438264.586329  65.0  86445.0  0.982775\n",
              "4  2018-05-31  442892.804380  62.0  91131.0  0.980287"
            ],
            "text/html": [
              "\n",
              "  <div id=\"df-6d257268-c858-4eab-a471-f168003f35f4\" class=\"colab-df-container\">\n",
              "    <div>\n",
              "<style scoped>\n",
              "    .dataframe tbody tr th:only-of-type {\n",
              "        vertical-align: middle;\n",
              "    }\n",
              "\n",
              "    .dataframe tbody tr th {\n",
              "        vertical-align: top;\n",
              "    }\n",
              "\n",
              "    .dataframe thead th {\n",
              "        text-align: right;\n",
              "    }\n",
              "</style>\n",
              "<table border=\"1\" class=\"dataframe\">\n",
              "  <thead>\n",
              "    <tr style=\"text-align: right;\">\n",
              "      <th></th>\n",
              "      <th>Date</th>\n",
              "      <th>HV</th>\n",
              "      <th>DTP</th>\n",
              "      <th>INV</th>\n",
              "      <th>STL</th>\n",
              "    </tr>\n",
              "  </thead>\n",
              "  <tbody>\n",
              "    <tr>\n",
              "      <th>0</th>\n",
              "      <td>2018-01-31</td>\n",
              "      <td>434168.607328</td>\n",
              "      <td>73.0</td>\n",
              "      <td>66530.0</td>\n",
              "      <td>0.975376</td>\n",
              "    </tr>\n",
              "    <tr>\n",
              "      <th>1</th>\n",
              "      <td>2018-02-28</td>\n",
              "      <td>433237.046452</td>\n",
              "      <td>68.0</td>\n",
              "      <td>74575.0</td>\n",
              "      <td>0.975660</td>\n",
              "    </tr>\n",
              "    <tr>\n",
              "      <th>2</th>\n",
              "      <td>2018-03-31</td>\n",
              "      <td>435337.236215</td>\n",
              "      <td>63.0</td>\n",
              "      <td>80016.0</td>\n",
              "      <td>0.978424</td>\n",
              "    </tr>\n",
              "    <tr>\n",
              "      <th>3</th>\n",
              "      <td>2018-04-30</td>\n",
              "      <td>438264.586329</td>\n",
              "      <td>65.0</td>\n",
              "      <td>86445.0</td>\n",
              "      <td>0.982775</td>\n",
              "    </tr>\n",
              "    <tr>\n",
              "      <th>4</th>\n",
              "      <td>2018-05-31</td>\n",
              "      <td>442892.804380</td>\n",
              "      <td>62.0</td>\n",
              "      <td>91131.0</td>\n",
              "      <td>0.980287</td>\n",
              "    </tr>\n",
              "  </tbody>\n",
              "</table>\n",
              "</div>\n",
              "    <div class=\"colab-df-buttons\">\n",
              "\n",
              "  <div class=\"colab-df-container\">\n",
              "    <button class=\"colab-df-convert\" onclick=\"convertToInteractive('df-6d257268-c858-4eab-a471-f168003f35f4')\"\n",
              "            title=\"Convert this dataframe to an interactive table.\"\n",
              "            style=\"display:none;\">\n",
              "\n",
              "  <svg xmlns=\"http://www.w3.org/2000/svg\" height=\"24px\" viewBox=\"0 -960 960 960\">\n",
              "    <path d=\"M120-120v-720h720v720H120Zm60-500h600v-160H180v160Zm220 220h160v-160H400v160Zm0 220h160v-160H400v160ZM180-400h160v-160H180v160Zm440 0h160v-160H620v160ZM180-180h160v-160H180v160Zm440 0h160v-160H620v160Z\"/>\n",
              "  </svg>\n",
              "    </button>\n",
              "\n",
              "  <style>\n",
              "    .colab-df-container {\n",
              "      display:flex;\n",
              "      gap: 12px;\n",
              "    }\n",
              "\n",
              "    .colab-df-convert {\n",
              "      background-color: #E8F0FE;\n",
              "      border: none;\n",
              "      border-radius: 50%;\n",
              "      cursor: pointer;\n",
              "      display: none;\n",
              "      fill: #1967D2;\n",
              "      height: 32px;\n",
              "      padding: 0 0 0 0;\n",
              "      width: 32px;\n",
              "    }\n",
              "\n",
              "    .colab-df-convert:hover {\n",
              "      background-color: #E2EBFA;\n",
              "      box-shadow: 0px 1px 2px rgba(60, 64, 67, 0.3), 0px 1px 3px 1px rgba(60, 64, 67, 0.15);\n",
              "      fill: #174EA6;\n",
              "    }\n",
              "\n",
              "    .colab-df-buttons div {\n",
              "      margin-bottom: 4px;\n",
              "    }\n",
              "\n",
              "    [theme=dark] .colab-df-convert {\n",
              "      background-color: #3B4455;\n",
              "      fill: #D2E3FC;\n",
              "    }\n",
              "\n",
              "    [theme=dark] .colab-df-convert:hover {\n",
              "      background-color: #434B5C;\n",
              "      box-shadow: 0px 1px 3px 1px rgba(0, 0, 0, 0.15);\n",
              "      filter: drop-shadow(0px 1px 2px rgba(0, 0, 0, 0.3));\n",
              "      fill: #FFFFFF;\n",
              "    }\n",
              "  </style>\n",
              "\n",
              "    <script>\n",
              "      const buttonEl =\n",
              "        document.querySelector('#df-6d257268-c858-4eab-a471-f168003f35f4 button.colab-df-convert');\n",
              "      buttonEl.style.display =\n",
              "        google.colab.kernel.accessAllowed ? 'block' : 'none';\n",
              "\n",
              "      async function convertToInteractive(key) {\n",
              "        const element = document.querySelector('#df-6d257268-c858-4eab-a471-f168003f35f4');\n",
              "        const dataTable =\n",
              "          await google.colab.kernel.invokeFunction('convertToInteractive',\n",
              "                                                    [key], {});\n",
              "        if (!dataTable) return;\n",
              "\n",
              "        const docLinkHtml = 'Like what you see? Visit the ' +\n",
              "          '<a target=\"_blank\" href=https://colab.research.google.com/notebooks/data_table.ipynb>data table notebook</a>'\n",
              "          + ' to learn more about interactive tables.';\n",
              "        element.innerHTML = '';\n",
              "        dataTable['output_type'] = 'display_data';\n",
              "        await google.colab.output.renderOutput(dataTable, element);\n",
              "        const docLink = document.createElement('div');\n",
              "        docLink.innerHTML = docLinkHtml;\n",
              "        element.appendChild(docLink);\n",
              "      }\n",
              "    </script>\n",
              "  </div>\n",
              "\n",
              "\n",
              "<div id=\"df-b91079ca-d15a-4f52-8c1d-9f2bf4b05232\">\n",
              "  <button class=\"colab-df-quickchart\" onclick=\"quickchart('df-b91079ca-d15a-4f52-8c1d-9f2bf4b05232')\"\n",
              "            title=\"Suggest charts.\"\n",
              "            style=\"display:none;\">\n",
              "\n",
              "<svg xmlns=\"http://www.w3.org/2000/svg\" height=\"24px\"viewBox=\"0 0 24 24\"\n",
              "     width=\"24px\">\n",
              "    <g>\n",
              "        <path d=\"M19 3H5c-1.1 0-2 .9-2 2v14c0 1.1.9 2 2 2h14c1.1 0 2-.9 2-2V5c0-1.1-.9-2-2-2zM9 17H7v-7h2v7zm4 0h-2V7h2v10zm4 0h-2v-4h2v4z\"/>\n",
              "    </g>\n",
              "</svg>\n",
              "  </button>\n",
              "\n",
              "<style>\n",
              "  .colab-df-quickchart {\n",
              "    background-color: #E8F0FE;\n",
              "    border: none;\n",
              "    border-radius: 50%;\n",
              "    cursor: pointer;\n",
              "    display: none;\n",
              "    fill: #1967D2;\n",
              "    height: 32px;\n",
              "    padding: 0 0 0 0;\n",
              "    width: 32px;\n",
              "  }\n",
              "\n",
              "  .colab-df-quickchart:hover {\n",
              "    background-color: #E2EBFA;\n",
              "    box-shadow: 0px 1px 2px rgba(60, 64, 67, 0.3), 0px 1px 3px 1px rgba(60, 64, 67, 0.15);\n",
              "    fill: #174EA6;\n",
              "  }\n",
              "\n",
              "  [theme=dark] .colab-df-quickchart {\n",
              "    background-color: #3B4455;\n",
              "    fill: #D2E3FC;\n",
              "  }\n",
              "\n",
              "  [theme=dark] .colab-df-quickchart:hover {\n",
              "    background-color: #434B5C;\n",
              "    box-shadow: 0px 1px 3px 1px rgba(0, 0, 0, 0.15);\n",
              "    filter: drop-shadow(0px 1px 2px rgba(0, 0, 0, 0.3));\n",
              "    fill: #FFFFFF;\n",
              "  }\n",
              "</style>\n",
              "\n",
              "  <script>\n",
              "    async function quickchart(key) {\n",
              "      const charts = await google.colab.kernel.invokeFunction(\n",
              "          'suggestCharts', [key], {});\n",
              "    }\n",
              "    (() => {\n",
              "      let quickchartButtonEl =\n",
              "        document.querySelector('#df-b91079ca-d15a-4f52-8c1d-9f2bf4b05232 button');\n",
              "      quickchartButtonEl.style.display =\n",
              "        google.colab.kernel.accessAllowed ? 'block' : 'none';\n",
              "    })();\n",
              "  </script>\n",
              "</div>\n",
              "    </div>\n",
              "  </div>\n"
            ]
          },
          "metadata": {},
          "execution_count": 88
        }
      ]
    },
    {
      "cell_type": "markdown",
      "source": [
        "## EDA\n",
        "\n",
        "Now let's take a look at the cleaned dataset we are working with. First, let's make sure there are no missing values that we need to impute.\n"
      ],
      "metadata": {
        "id": "21MoRVUxw4P2"
      }
    },
    {
      "cell_type": "code",
      "source": [
        "df.info()"
      ],
      "metadata": {
        "colab": {
          "base_uri": "https://localhost:8080/"
        },
        "id": "fyy9ZirTMT4b",
        "outputId": "db320048-d77c-4952-d63c-28007fbfa504"
      },
      "execution_count": 89,
      "outputs": [
        {
          "output_type": "stream",
          "name": "stdout",
          "text": [
            "<class 'pandas.core.frame.DataFrame'>\n",
            "RangeIndex: 66 entries, 0 to 65\n",
            "Data columns (total 5 columns):\n",
            " #   Column  Non-Null Count  Dtype  \n",
            "---  ------  --------------  -----  \n",
            " 0   Date    66 non-null     object \n",
            " 1   HV      66 non-null     float64\n",
            " 2   DTP     66 non-null     float64\n",
            " 3   INV     66 non-null     float64\n",
            " 4   STL     66 non-null     float64\n",
            "dtypes: float64(4), object(1)\n",
            "memory usage: 2.7+ KB\n"
          ]
        }
      ]
    },
    {
      "cell_type": "markdown",
      "source": [
        "We see that we have 66 months of observances with zero missing values. Let's explore the breakdown of values in each column a little further."
      ],
      "metadata": {
        "id": "0cnN_o0HQHKk"
      }
    },
    {
      "cell_type": "code",
      "source": [
        "df.describe()"
      ],
      "metadata": {
        "colab": {
          "base_uri": "https://localhost:8080/",
          "height": 300
        },
        "id": "RMDAcVgZRFIL",
        "outputId": "4b85118c-2948-45cc-b597-70b1b220bbca"
      },
      "execution_count": 90,
      "outputs": [
        {
          "output_type": "execute_result",
          "data": {
            "text/plain": [
              "                  HV         DTP           INV        STL\n",
              "count      66.000000   66.000000     66.000000  66.000000\n",
              "mean   515165.345242   73.772727  70316.878788   0.993652\n",
              "std     56835.135944   16.434294  15942.065775   0.016513\n",
              "min    433237.046452   44.000000  41911.000000   0.973832\n",
              "25%    465502.679313   62.250000  59479.250000   0.979804\n",
              "50%    498583.147883   70.500000  70586.000000   0.991389\n",
              "75%    567278.547601   85.000000  82744.250000   1.005476\n",
              "max    615770.908693  115.000000  98511.000000   1.034933"
            ],
            "text/html": [
              "\n",
              "  <div id=\"df-6fc7d645-f287-4c9e-8978-272c6fe9269d\" class=\"colab-df-container\">\n",
              "    <div>\n",
              "<style scoped>\n",
              "    .dataframe tbody tr th:only-of-type {\n",
              "        vertical-align: middle;\n",
              "    }\n",
              "\n",
              "    .dataframe tbody tr th {\n",
              "        vertical-align: top;\n",
              "    }\n",
              "\n",
              "    .dataframe thead th {\n",
              "        text-align: right;\n",
              "    }\n",
              "</style>\n",
              "<table border=\"1\" class=\"dataframe\">\n",
              "  <thead>\n",
              "    <tr style=\"text-align: right;\">\n",
              "      <th></th>\n",
              "      <th>HV</th>\n",
              "      <th>DTP</th>\n",
              "      <th>INV</th>\n",
              "      <th>STL</th>\n",
              "    </tr>\n",
              "  </thead>\n",
              "  <tbody>\n",
              "    <tr>\n",
              "      <th>count</th>\n",
              "      <td>66.000000</td>\n",
              "      <td>66.000000</td>\n",
              "      <td>66.000000</td>\n",
              "      <td>66.000000</td>\n",
              "    </tr>\n",
              "    <tr>\n",
              "      <th>mean</th>\n",
              "      <td>515165.345242</td>\n",
              "      <td>73.772727</td>\n",
              "      <td>70316.878788</td>\n",
              "      <td>0.993652</td>\n",
              "    </tr>\n",
              "    <tr>\n",
              "      <th>std</th>\n",
              "      <td>56835.135944</td>\n",
              "      <td>16.434294</td>\n",
              "      <td>15942.065775</td>\n",
              "      <td>0.016513</td>\n",
              "    </tr>\n",
              "    <tr>\n",
              "      <th>min</th>\n",
              "      <td>433237.046452</td>\n",
              "      <td>44.000000</td>\n",
              "      <td>41911.000000</td>\n",
              "      <td>0.973832</td>\n",
              "    </tr>\n",
              "    <tr>\n",
              "      <th>25%</th>\n",
              "      <td>465502.679313</td>\n",
              "      <td>62.250000</td>\n",
              "      <td>59479.250000</td>\n",
              "      <td>0.979804</td>\n",
              "    </tr>\n",
              "    <tr>\n",
              "      <th>50%</th>\n",
              "      <td>498583.147883</td>\n",
              "      <td>70.500000</td>\n",
              "      <td>70586.000000</td>\n",
              "      <td>0.991389</td>\n",
              "    </tr>\n",
              "    <tr>\n",
              "      <th>75%</th>\n",
              "      <td>567278.547601</td>\n",
              "      <td>85.000000</td>\n",
              "      <td>82744.250000</td>\n",
              "      <td>1.005476</td>\n",
              "    </tr>\n",
              "    <tr>\n",
              "      <th>max</th>\n",
              "      <td>615770.908693</td>\n",
              "      <td>115.000000</td>\n",
              "      <td>98511.000000</td>\n",
              "      <td>1.034933</td>\n",
              "    </tr>\n",
              "  </tbody>\n",
              "</table>\n",
              "</div>\n",
              "    <div class=\"colab-df-buttons\">\n",
              "\n",
              "  <div class=\"colab-df-container\">\n",
              "    <button class=\"colab-df-convert\" onclick=\"convertToInteractive('df-6fc7d645-f287-4c9e-8978-272c6fe9269d')\"\n",
              "            title=\"Convert this dataframe to an interactive table.\"\n",
              "            style=\"display:none;\">\n",
              "\n",
              "  <svg xmlns=\"http://www.w3.org/2000/svg\" height=\"24px\" viewBox=\"0 -960 960 960\">\n",
              "    <path d=\"M120-120v-720h720v720H120Zm60-500h600v-160H180v160Zm220 220h160v-160H400v160Zm0 220h160v-160H400v160ZM180-400h160v-160H180v160Zm440 0h160v-160H620v160ZM180-180h160v-160H180v160Zm440 0h160v-160H620v160Z\"/>\n",
              "  </svg>\n",
              "    </button>\n",
              "\n",
              "  <style>\n",
              "    .colab-df-container {\n",
              "      display:flex;\n",
              "      gap: 12px;\n",
              "    }\n",
              "\n",
              "    .colab-df-convert {\n",
              "      background-color: #E8F0FE;\n",
              "      border: none;\n",
              "      border-radius: 50%;\n",
              "      cursor: pointer;\n",
              "      display: none;\n",
              "      fill: #1967D2;\n",
              "      height: 32px;\n",
              "      padding: 0 0 0 0;\n",
              "      width: 32px;\n",
              "    }\n",
              "\n",
              "    .colab-df-convert:hover {\n",
              "      background-color: #E2EBFA;\n",
              "      box-shadow: 0px 1px 2px rgba(60, 64, 67, 0.3), 0px 1px 3px 1px rgba(60, 64, 67, 0.15);\n",
              "      fill: #174EA6;\n",
              "    }\n",
              "\n",
              "    .colab-df-buttons div {\n",
              "      margin-bottom: 4px;\n",
              "    }\n",
              "\n",
              "    [theme=dark] .colab-df-convert {\n",
              "      background-color: #3B4455;\n",
              "      fill: #D2E3FC;\n",
              "    }\n",
              "\n",
              "    [theme=dark] .colab-df-convert:hover {\n",
              "      background-color: #434B5C;\n",
              "      box-shadow: 0px 1px 3px 1px rgba(0, 0, 0, 0.15);\n",
              "      filter: drop-shadow(0px 1px 2px rgba(0, 0, 0, 0.3));\n",
              "      fill: #FFFFFF;\n",
              "    }\n",
              "  </style>\n",
              "\n",
              "    <script>\n",
              "      const buttonEl =\n",
              "        document.querySelector('#df-6fc7d645-f287-4c9e-8978-272c6fe9269d button.colab-df-convert');\n",
              "      buttonEl.style.display =\n",
              "        google.colab.kernel.accessAllowed ? 'block' : 'none';\n",
              "\n",
              "      async function convertToInteractive(key) {\n",
              "        const element = document.querySelector('#df-6fc7d645-f287-4c9e-8978-272c6fe9269d');\n",
              "        const dataTable =\n",
              "          await google.colab.kernel.invokeFunction('convertToInteractive',\n",
              "                                                    [key], {});\n",
              "        if (!dataTable) return;\n",
              "\n",
              "        const docLinkHtml = 'Like what you see? Visit the ' +\n",
              "          '<a target=\"_blank\" href=https://colab.research.google.com/notebooks/data_table.ipynb>data table notebook</a>'\n",
              "          + ' to learn more about interactive tables.';\n",
              "        element.innerHTML = '';\n",
              "        dataTable['output_type'] = 'display_data';\n",
              "        await google.colab.output.renderOutput(dataTable, element);\n",
              "        const docLink = document.createElement('div');\n",
              "        docLink.innerHTML = docLinkHtml;\n",
              "        element.appendChild(docLink);\n",
              "      }\n",
              "    </script>\n",
              "  </div>\n",
              "\n",
              "\n",
              "<div id=\"df-be3c70d1-dabb-432f-a584-61dc084c9b10\">\n",
              "  <button class=\"colab-df-quickchart\" onclick=\"quickchart('df-be3c70d1-dabb-432f-a584-61dc084c9b10')\"\n",
              "            title=\"Suggest charts.\"\n",
              "            style=\"display:none;\">\n",
              "\n",
              "<svg xmlns=\"http://www.w3.org/2000/svg\" height=\"24px\"viewBox=\"0 0 24 24\"\n",
              "     width=\"24px\">\n",
              "    <g>\n",
              "        <path d=\"M19 3H5c-1.1 0-2 .9-2 2v14c0 1.1.9 2 2 2h14c1.1 0 2-.9 2-2V5c0-1.1-.9-2-2-2zM9 17H7v-7h2v7zm4 0h-2V7h2v10zm4 0h-2v-4h2v4z\"/>\n",
              "    </g>\n",
              "</svg>\n",
              "  </button>\n",
              "\n",
              "<style>\n",
              "  .colab-df-quickchart {\n",
              "    background-color: #E8F0FE;\n",
              "    border: none;\n",
              "    border-radius: 50%;\n",
              "    cursor: pointer;\n",
              "    display: none;\n",
              "    fill: #1967D2;\n",
              "    height: 32px;\n",
              "    padding: 0 0 0 0;\n",
              "    width: 32px;\n",
              "  }\n",
              "\n",
              "  .colab-df-quickchart:hover {\n",
              "    background-color: #E2EBFA;\n",
              "    box-shadow: 0px 1px 2px rgba(60, 64, 67, 0.3), 0px 1px 3px 1px rgba(60, 64, 67, 0.15);\n",
              "    fill: #174EA6;\n",
              "  }\n",
              "\n",
              "  [theme=dark] .colab-df-quickchart {\n",
              "    background-color: #3B4455;\n",
              "    fill: #D2E3FC;\n",
              "  }\n",
              "\n",
              "  [theme=dark] .colab-df-quickchart:hover {\n",
              "    background-color: #434B5C;\n",
              "    box-shadow: 0px 1px 3px 1px rgba(0, 0, 0, 0.15);\n",
              "    filter: drop-shadow(0px 1px 2px rgba(0, 0, 0, 0.3));\n",
              "    fill: #FFFFFF;\n",
              "  }\n",
              "</style>\n",
              "\n",
              "  <script>\n",
              "    async function quickchart(key) {\n",
              "      const charts = await google.colab.kernel.invokeFunction(\n",
              "          'suggestCharts', [key], {});\n",
              "    }\n",
              "    (() => {\n",
              "      let quickchartButtonEl =\n",
              "        document.querySelector('#df-be3c70d1-dabb-432f-a584-61dc084c9b10 button');\n",
              "      quickchartButtonEl.style.display =\n",
              "        google.colab.kernel.accessAllowed ? 'block' : 'none';\n",
              "    })();\n",
              "  </script>\n",
              "</div>\n",
              "    </div>\n",
              "  </div>\n"
            ]
          },
          "metadata": {},
          "execution_count": 90
        }
      ]
    },
    {
      "cell_type": "markdown",
      "source": [
        "We can see that the magnitudes of the input variables are largely different, meaning we will need to scale the input data to get meaningful results. Let's also plot how each variable is changing over time."
      ],
      "metadata": {
        "id": "Y9dqdYkJ3qGg"
      }
    },
    {
      "cell_type": "code",
      "source": [
        "fig, axes = plt.subplots(nrows=2, ncols=2)\n",
        "\n",
        "# Plot the lines\n",
        "axes[0,0].plot(df['HV'])\n",
        "axes[0,1].plot(df['DTP'])\n",
        "axes[1,0].plot(df['INV'])\n",
        "axes[1,1].plot(df['STL'])\n",
        "\n",
        "# Set the titles\n",
        "axes[0,0].set_title('HV')\n",
        "axes[0,1].set_title('DTP')\n",
        "axes[1,0].set_title('INV')\n",
        "axes[1,1].set_title('STL')\n",
        "plt.show()"
      ],
      "metadata": {
        "colab": {
          "base_uri": "https://localhost:8080/",
          "height": 452
        },
        "id": "5_e3C17Z7fua",
        "outputId": "8da04377-cd4d-44ce-bf97-b333d33a2396"
      },
      "execution_count": 91,
      "outputs": [
        {
          "output_type": "display_data",
          "data": {
            "text/plain": [
              "<Figure size 640x480 with 4 Axes>"
            ],
            "image/png": "[encoded data removed]"
          },
          "metadata": {}
        }
      ]
    },
    {
      "cell_type": "markdown",
      "source": [
        "The overall inventory and days to pending appear to be trending downward over the measured period, while the home value and sales to list ratio appear to trend upwards. There is a large amount of seasonality in days to pending, inventory, and the sales to list ratio. There also appears to be a small amount of seasonality in the housing price, but it is not as pronounced."
      ],
      "metadata": {
        "id": "KTjEk8mZ-wOz"
      }
    },
    {
      "cell_type": "markdown",
      "source": [
        "## Data Preprocessing\n",
        "\n",
        "Let's create a time of year signal so the algorithm can learn to distinguish between the summer months when the real estate market appears to be at its peak and the off months when less transactions appear to be going on. There is a clever trick discussed in a TensorFlow tutorial [4] that goes into detail on how to do this.\n"
      ],
      "metadata": {
        "id": "WF67dXUNw6tJ"
      }
    },
    {
      "cell_type": "code",
      "source": [
        "#Extract Date and Convert to Timestamp Object\n",
        "date_time = pd.to_datetime(df.pop('Date'), format='%Y-%m-%d')\n",
        "#Convert to Seconds\n",
        "timestamp_s = date_time.map(pd.Timestamp.timestamp)\n",
        "#Create the signal and append to the dataframe\n",
        "day = 24*60*60\n",
        "year = (365.2425)*day\n",
        "df['Month Signal'] = np.cos(timestamp_s * (2 * np.pi / year))"
      ],
      "metadata": {
        "id": "EQkJlBA8C1lz"
      },
      "execution_count": 92,
      "outputs": []
    },
    {
      "cell_type": "code",
      "source": [
        "#Visualize results\n",
        "plt.plot(df['Month Signal'])"
      ],
      "metadata": {
        "colab": {
          "base_uri": "https://localhost:8080/",
          "height": 447
        },
        "id": "Fn3kDAjBgwYX",
        "outputId": "8e48b9f3-4f6f-46f8-ab2f-0a89006f48b9"
      },
      "execution_count": 93,
      "outputs": [
        {
          "output_type": "execute_result",
          "data": {
            "text/plain": [
              "[<matplotlib.lines.Line2D at 0x7c5e68f4add0>]"
            ]
          },
          "metadata": {},
          "execution_count": 93
        },
        {
          "output_type": "display_data",
          "data": {
            "text/plain": [
              "<Figure size 640x480 with 1 Axes>"
            ],
            "image/png": "[encoded data removed]"
          },
          "metadata": {}
        }
      ]
    },
    {
      "cell_type": "markdown",
      "source": [
        "The data will be split before being passed into the model. This will help to prevent overfitting. Since this is time series data for one metro area, shuffling the data is probably not the best approach, but we will still do a 70/20/10 split. We also need to normalize the data so that input variables on a larger scale do not wash out features on a smaller scale. In an effort to prevent unrealistic results, the normalization will only be based on the training data.\n",
        "\n"
      ],
      "metadata": {
        "id": "sYJykcZJCu9h"
      }
    },
    {
      "cell_type": "code",
      "source": [
        "#Split the Data\n",
        "n = len(df)\n",
        "raw_train_df = df[0:int(n*0.7)]\n",
        "raw_val_df = df[int(n*0.7):int(n*0.9)]\n",
        "raw_test_df = df[int(n*0.9):]\n",
        "#Normalize the Data based on Training Data Only\n",
        "train_mean = raw_train_df.mean()\n",
        "train_std = raw_train_df.std()\n",
        "train_df = (raw_train_df - train_mean) / train_std\n",
        "val_df = (raw_val_df - train_mean) / train_std\n",
        "test_df = (raw_test_df - train_mean) / train_std"
      ],
      "metadata": {
        "id": "t5T_-svcw94A"
      },
      "execution_count": 94,
      "outputs": []
    },
    {
      "cell_type": "code",
      "source": [
        "train_df.head()"
      ],
      "metadata": {
        "colab": {
          "base_uri": "https://localhost:8080/",
          "height": 206
        },
        "id": "exknECsRc0C9",
        "outputId": "8c153144-27ac-4c50-fc8e-d1ab7b5a4966"
      },
      "execution_count": 95,
      "outputs": [
        {
          "output_type": "execute_result",
          "data": {
            "text/plain": [
              "         HV       DTP       INV       STL  Month Signal\n",
              "0 -1.422555 -0.409728 -1.103028 -0.921109      1.287869\n",
              "1 -1.449373 -0.734684 -0.363651 -0.897962      0.817909\n",
              "2 -1.388913 -1.059641  0.136405 -0.672688      0.100357\n",
              "3 -1.304640 -0.929658  0.727264 -0.317953     -0.608855\n",
              "4 -1.171403 -1.124632  1.157932 -0.520788     -1.158884"
            ],
            "text/html": [
              "\n",
              "  <div id=\"df-dbf1b20b-4fb6-4de2-98e6-308d9c9b8358\" class=\"colab-df-container\">\n",
              "    <div>\n",
              "<style scoped>\n",
              "    .dataframe tbody tr th:only-of-type {\n",
              "        vertical-align: middle;\n",
              "    }\n",
              "\n",
              "    .dataframe tbody tr th {\n",
              "        vertical-align: top;\n",
              "    }\n",
              "\n",
              "    .dataframe thead th {\n",
              "        text-align: right;\n",
              "    }\n",
              "</style>\n",
              "<table border=\"1\" class=\"dataframe\">\n",
              "  <thead>\n",
              "    <tr style=\"text-align: right;\">\n",
              "      <th></th>\n",
              "      <th>HV</th>\n",
              "      <th>DTP</th>\n",
              "      <th>INV</th>\n",
              "      <th>STL</th>\n",
              "      <th>Month Signal</th>\n",
              "    </tr>\n",
              "  </thead>\n",
              "  <tbody>\n",
              "    <tr>\n",
              "      <th>0</th>\n",
              "      <td>-1.422555</td>\n",
              "      <td>-0.409728</td>\n",
              "      <td>-1.103028</td>\n",
              "      <td>-0.921109</td>\n",
              "      <td>1.287869</td>\n",
              "    </tr>\n",
              "    <tr>\n",
              "      <th>1</th>\n",
              "      <td>-1.449373</td>\n",
              "      <td>-0.734684</td>\n",
              "      <td>-0.363651</td>\n",
              "      <td>-0.897962</td>\n",
              "      <td>0.817909</td>\n",
              "    </tr>\n",
              "    <tr>\n",
              "      <th>2</th>\n",
              "      <td>-1.388913</td>\n",
              "      <td>-1.059641</td>\n",
              "      <td>0.136405</td>\n",
              "      <td>-0.672688</td>\n",
              "      <td>0.100357</td>\n",
              "    </tr>\n",
              "    <tr>\n",
              "      <th>3</th>\n",
              "      <td>-1.304640</td>\n",
              "      <td>-0.929658</td>\n",
              "      <td>0.727264</td>\n",
              "      <td>-0.317953</td>\n",
              "      <td>-0.608855</td>\n",
              "    </tr>\n",
              "    <tr>\n",
              "      <th>4</th>\n",
              "      <td>-1.171403</td>\n",
              "      <td>-1.124632</td>\n",
              "      <td>1.157932</td>\n",
              "      <td>-0.520788</td>\n",
              "      <td>-1.158884</td>\n",
              "    </tr>\n",
              "  </tbody>\n",
              "</table>\n",
              "</div>\n",
              "    <div class=\"colab-df-buttons\">\n",
              "\n",
              "  <div class=\"colab-df-container\">\n",
              "    <button class=\"colab-df-convert\" onclick=\"convertToInteractive('df-dbf1b20b-4fb6-4de2-98e6-308d9c9b8358')\"\n",
              "            title=\"Convert this dataframe to an interactive table.\"\n",
              "            style=\"display:none;\">\n",
              "\n",
              "  <svg xmlns=\"http://www.w3.org/2000/svg\" height=\"24px\" viewBox=\"0 -960 960 960\">\n",
              "    <path d=\"M120-120v-720h720v720H120Zm60-500h600v-160H180v160Zm220 220h160v-160H400v160Zm0 220h160v-160H400v160ZM180-400h160v-160H180v160Zm440 0h160v-160H620v160ZM180-180h160v-160H180v160Zm440 0h160v-160H620v160Z\"/>\n",
              "  </svg>\n",
              "    </button>\n",
              "\n",
              "  <style>\n",
              "    .colab-df-container {\n",
              "      display:flex;\n",
              "      gap: 12px;\n",
              "    }\n",
              "\n",
              "    .colab-df-convert {\n",
              "      background-color: #E8F0FE;\n",
              "      border: none;\n",
              "      border-radius: 50%;\n",
              "      cursor: pointer;\n",
              "      display: none;\n",
              "      fill: #1967D2;\n",
              "      height: 32px;\n",
              "      padding: 0 0 0 0;\n",
              "      width: 32px;\n",
              "    }\n",
              "\n",
              "    .colab-df-convert:hover {\n",
              "      background-color: #E2EBFA;\n",
              "      box-shadow: 0px 1px 2px rgba(60, 64, 67, 0.3), 0px 1px 3px 1px rgba(60, 64, 67, 0.15);\n",
              "      fill: #174EA6;\n",
              "    }\n",
              "\n",
              "    .colab-df-buttons div {\n",
              "      margin-bottom: 4px;\n",
              "    }\n",
              "\n",
              "    [theme=dark] .colab-df-convert {\n",
              "      background-color: #3B4455;\n",
              "      fill: #D2E3FC;\n",
              "    }\n",
              "\n",
              "    [theme=dark] .colab-df-convert:hover {\n",
              "      background-color: #434B5C;\n",
              "      box-shadow: 0px 1px 3px 1px rgba(0, 0, 0, 0.15);\n",
              "      filter: drop-shadow(0px 1px 2px rgba(0, 0, 0, 0.3));\n",
              "      fill: #FFFFFF;\n",
              "    }\n",
              "  </style>\n",
              "\n",
              "    <script>\n",
              "      const buttonEl =\n",
              "        document.querySelector('#df-dbf1b20b-4fb6-4de2-98e6-308d9c9b8358 button.colab-df-convert');\n",
              "      buttonEl.style.display =\n",
              "        google.colab.kernel.accessAllowed ? 'block' : 'none';\n",
              "\n",
              "      async function convertToInteractive(key) {\n",
              "        const element = document.querySelector('#df-dbf1b20b-4fb6-4de2-98e6-308d9c9b8358');\n",
              "        const dataTable =\n",
              "          await google.colab.kernel.invokeFunction('convertToInteractive',\n",
              "                                                    [key], {});\n",
              "        if (!dataTable) return;\n",
              "\n",
              "        const docLinkHtml = 'Like what you see? Visit the ' +\n",
              "          '<a target=\"_blank\" href=https://colab.research.google.com/notebooks/data_table.ipynb>data table notebook</a>'\n",
              "          + ' to learn more about interactive tables.';\n",
              "        element.innerHTML = '';\n",
              "        dataTable['output_type'] = 'display_data';\n",
              "        await google.colab.output.renderOutput(dataTable, element);\n",
              "        const docLink = document.createElement('div');\n",
              "        docLink.innerHTML = docLinkHtml;\n",
              "        element.appendChild(docLink);\n",
              "      }\n",
              "    </script>\n",
              "  </div>\n",
              "\n",
              "\n",
              "<div id=\"df-d8f5e6d7-7466-41c9-a428-ec5fabf98efe\">\n",
              "  <button class=\"colab-df-quickchart\" onclick=\"quickchart('df-d8f5e6d7-7466-41c9-a428-ec5fabf98efe')\"\n",
              "            title=\"Suggest charts.\"\n",
              "            style=\"display:none;\">\n",
              "\n",
              "<svg xmlns=\"http://www.w3.org/2000/svg\" height=\"24px\"viewBox=\"0 0 24 24\"\n",
              "     width=\"24px\">\n",
              "    <g>\n",
              "        <path d=\"M19 3H5c-1.1 0-2 .9-2 2v14c0 1.1.9 2 2 2h14c1.1 0 2-.9 2-2V5c0-1.1-.9-2-2-2zM9 17H7v-7h2v7zm4 0h-2V7h2v10zm4 0h-2v-4h2v4z\"/>\n",
              "    </g>\n",
              "</svg>\n",
              "  </button>\n",
              "\n",
              "<style>\n",
              "  .colab-df-quickchart {\n",
              "    background-color: #E8F0FE;\n",
              "    border: none;\n",
              "    border-radius: 50%;\n",
              "    cursor: pointer;\n",
              "    display: none;\n",
              "    fill: #1967D2;\n",
              "    height: 32px;\n",
              "    padding: 0 0 0 0;\n",
              "    width: 32px;\n",
              "  }\n",
              "\n",
              "  .colab-df-quickchart:hover {\n",
              "    background-color: #E2EBFA;\n",
              "    box-shadow: 0px 1px 2px rgba(60, 64, 67, 0.3), 0px 1px 3px 1px rgba(60, 64, 67, 0.15);\n",
              "    fill: #174EA6;\n",
              "  }\n",
              "\n",
              "  [theme=dark] .colab-df-quickchart {\n",
              "    background-color: #3B4455;\n",
              "    fill: #D2E3FC;\n",
              "  }\n",
              "\n",
              "  [theme=dark] .colab-df-quickchart:hover {\n",
              "    background-color: #434B5C;\n",
              "    box-shadow: 0px 1px 3px 1px rgba(0, 0, 0, 0.15);\n",
              "    filter: drop-shadow(0px 1px 2px rgba(0, 0, 0, 0.3));\n",
              "    fill: #FFFFFF;\n",
              "  }\n",
              "</style>\n",
              "\n",
              "  <script>\n",
              "    async function quickchart(key) {\n",
              "      const charts = await google.colab.kernel.invokeFunction(\n",
              "          'suggestCharts', [key], {});\n",
              "    }\n",
              "    (() => {\n",
              "      let quickchartButtonEl =\n",
              "        document.querySelector('#df-d8f5e6d7-7466-41c9-a428-ec5fabf98efe button');\n",
              "      quickchartButtonEl.style.display =\n",
              "        google.colab.kernel.accessAllowed ? 'block' : 'none';\n",
              "    })();\n",
              "  </script>\n",
              "</div>\n",
              "    </div>\n",
              "  </div>\n"
            ]
          },
          "metadata": {},
          "execution_count": 95
        }
      ]
    },
    {
      "cell_type": "markdown",
      "source": [
        "Let's take one last look at the dataset before and after normalization to visualize what has happened to the data."
      ],
      "metadata": {
        "id": "dqqcxVbLcFkG"
      }
    },
    {
      "cell_type": "code",
      "source": [
        "#Plot the original and normalized data\n",
        "fig, axes = plt.subplots(nrows=2, ncols=1)\n",
        "\n",
        "# Plot the lines\n",
        "axes[0].boxplot(raw_train_df)\n",
        "axes[1].boxplot(train_df)\n",
        "\n",
        "# Set the titles\n",
        "axes[0].set_title('Original')\n",
        "axes[1].set_title('Normalized')\n",
        "\n",
        "plt.show()"
      ],
      "metadata": {
        "colab": {
          "base_uri": "https://localhost:8080/",
          "height": 452
        },
        "id": "KL-TyMFAlWiv",
        "outputId": "36e65dca-a4ed-42d9-ef29-1e85f41158c4"
      },
      "execution_count": 96,
      "outputs": [
        {
          "output_type": "display_data",
          "data": {
            "text/plain": [
              "<Figure size 640x480 with 2 Axes>"
            ],
            "image/png": "[encoded data removed]"
          },
          "metadata": {}
        }
      ]
    },
    {
      "cell_type": "markdown",
      "source": [
        "We can see from the plot the effect of normalization. The variables are still not perfectly distributed and still have a few outliers, but are all on the same scale.\n",
        "\n",
        "Lastly, we will make sure the data is shaped properly and is formatted for the task we are attempting. TensorFlow expects the following format for time series data: *(batch size, time step, features)*. We will also need to specify the \"window\" of timesteps to look at to make the predictions. This window will need to shift as we make a prediction so that it uses the most recent \"seen\" timesteps to train the model and make the predictions. There is a nice WindowGenerator class in the TensorFlow timeseries tutorial [4] that we will implement to shape the data.\n"
      ],
      "metadata": {
        "id": "eq_qvauOmKwo"
      }
    },
    {
      "cell_type": "code",
      "source": [
        "#Create WindowGenerator Class\n",
        "class WindowGenerator():\n",
        "  def __init__(self, input_width, label_width, shift,\n",
        "               train_df=train_df, val_df=val_df, test_df=test_df,\n",
        "               label_columns=None):\n",
        "    #Make results replicable\n",
        "    keras.utils.set_random_seed(5)\n",
        "    # Store the raw data.\n",
        "    self.train_df = train_df\n",
        "    self.val_df = val_df\n",
        "    self.test_df = test_df\n",
        "    # Work out the label column indices.\n",
        "    self.label_columns = label_columns\n",
        "    if label_columns is not None:\n",
        "      self.label_columns_indices = {name: i for i, name in\n",
        "                                    enumerate(label_columns)}\n",
        "    self.column_indices = {name: i for i, name in\n",
        "                           enumerate(train_df.columns)}\n",
        "    # Work out the window parameters.\n",
        "    self.input_width = input_width\n",
        "    self.label_width = label_width\n",
        "    self.shift = shift\n",
        "    self.total_window_size = input_width + shift\n",
        "    self.input_slice = slice(0, input_width)\n",
        "    self.input_indices = np.arange(self.total_window_size)[self.input_slice]\n",
        "    self.label_start = self.total_window_size - self.label_width\n",
        "    self.labels_slice = slice(self.label_start, None)\n",
        "    self.label_indices = np.arange(self.total_window_size)[self.labels_slice]\n",
        "  def __repr__(self):\n",
        "    return '\\n'.join([\n",
        "        f'Total window size: {self.total_window_size}',\n",
        "        f'Input indices: {self.input_indices}',\n",
        "        f'Label indices: {self.label_indices}',\n",
        "        f'Label column name(s): {self.label_columns}'])\n",
        "\n",
        "#Create Split Window Method\n",
        "def split_window(self, features):\n",
        "  inputs = features[:, self.input_slice, :]\n",
        "  labels = features[:, self.labels_slice, :]\n",
        "  if self.label_columns is not None:\n",
        "    labels = tf.stack(\n",
        "        [labels[:, :, self.column_indices[name]] for name in self.label_columns],\n",
        "        axis=-1)\n",
        "  # Slicing doesn't preserve static shape information, so set the shapes\n",
        "  # manually. This way the `tf.data.Datasets` are easier to inspect.\n",
        "  inputs.set_shape([None, self.input_width, None])\n",
        "  labels.set_shape([None, self.label_width, None])\n",
        "  return inputs, labels\n",
        "WindowGenerator.split_window = split_window\n",
        "\n",
        "#Create method to make the dataset\n",
        "def make_dataset(self, data):\n",
        "  data = np.array(data, dtype=np.float32)\n",
        "  ds = tf.keras.utils.timeseries_dataset_from_array(\n",
        "      data=data,\n",
        "      targets=None,\n",
        "      sequence_length=self.total_window_size,\n",
        "      sequence_stride=1,\n",
        "      shuffle=False,\n",
        "      batch_size=1,)\n",
        "  ds = ds.map(self.split_window)\n",
        "  return ds\n",
        "WindowGenerator.make_dataset = make_dataset\n",
        "\n",
        "@property\n",
        "def train(self):\n",
        "  return self.make_dataset(self.train_df)\n",
        "@property\n",
        "def val(self):\n",
        "  return self.make_dataset(self.val_df)\n",
        "@property\n",
        "def test(self):\n",
        "  return self.make_dataset(self.test_df)\n",
        "@property\n",
        "def example(self):\n",
        "  \"\"\"Get and cache an example batch of `inputs, labels` for plotting.\"\"\"\n",
        "  result = getattr(self, '_example', None)\n",
        "  if result is None:\n",
        "    # No example batch was found, so get one from the `.train` dataset\n",
        "    result = next(iter(self.train))\n",
        "    # And cache it for next time\n",
        "    self._example = result\n",
        "  return result\n",
        "\n",
        "WindowGenerator.train = train\n",
        "WindowGenerator.val = val\n",
        "WindowGenerator.test = test\n",
        "WindowGenerator.example = example"
      ],
      "metadata": {
        "id": "10l03AaqIOUm"
      },
      "execution_count": 168,
      "outputs": []
    },
    {
      "cell_type": "code",
      "source": [
        "#Create the Windows to be Used\n",
        "window=WindowGenerator(input_width=1, label_width=1, shift=1, label_columns=['HV'])"
      ],
      "metadata": {
        "id": "3tcfI7qWO2Y4"
      },
      "execution_count": 169,
      "outputs": []
    },
    {
      "cell_type": "markdown",
      "source": [
        "## Model Building\n",
        "\n",
        "Three models will be built for testing:\n",
        "\n",
        "1. **Baseline model:** This model outputs the previous month's home value. This model represents the current methodology used to price a house based on recent comparable sales, making no adjustments for projected future trends.\n",
        "2. **LSTM model:** This model implements a Long Short-Term Memory (LSTM) layer, which is a type of recurrent neural network. RNNs can suffer from vanishing gradients, which can lead to suboptimal results. LSTM was developed as a type of RNN to combat the vanishing gradient problem. The LSTM approach adds a cell state output in addition to the hidden layer output that is passed to the next time step. The cell state is meant to help with \"long-term\" memory. Inside the LSTM, there are four gates that perform operations on the input: forget, input, gate, and output.\n",
        "3. **GRU model:** This model implements a Gated Recurrent Unit (GRU) layer, which is another type of recurrent neural network that is meant to mitigate vanishing gradients due to \"memory loss.\" The GRU model is newer than the LSTM approach and does not require tracking previous cell state. There are only three gates within the GRU cell: reset, gate, and z. There is no cell state output. Instead, the output of the hidden layer is more of a rolling average containing a contribution from the current time step and a contribution from all previous time steps.\n",
        "\n",
        "(The LSTM and GRU approaches can be difficult concepts to visualize. I have included a link [5] in the sources section that offers some very insightful illustrations.)\n",
        "\n",
        "**Hyperparameter tuning:** The main hyperparameter being tuned is the architecture itself (LSTM vs GRU). I also experimented with different numbers of nodes in each layer (16-256), tried multiple RNN layers, and added additional dense layers before the final output layer. The best results are shown below.\n",
        "\n",
        "All predictions will be for the next month only\n"
      ],
      "metadata": {
        "id": "pcFTMz0gxE11"
      }
    },
    {
      "cell_type": "code",
      "source": [
        "val_performance = {}\n",
        "test_performance = {}\n",
        "train_preds={}\n",
        "val_preds={}\n",
        "test_preds={}\n",
        "\n",
        "#Basline Model\n",
        "def base_pred(df):\n",
        "  vals=df['HV'].tolist()\n",
        "  true_vals=[]\n",
        "  pred_vals=[]\n",
        "  for i in range(1,len(vals)):\n",
        "    true_vals.append(vals[i])\n",
        "    pred_vals.append(vals[i-1])\n",
        "  true_vals=pd.Series(true_vals)\n",
        "  pred_vals=pd.Series(pred_vals)\n",
        "  MSE=sum((true_vals-pred_vals)**2)/len(vals)\n",
        "  MAE=sum(true_vals-pred_vals)/len(vals)\n",
        "  return [MSE, MAE], pred_vals\n",
        "base_train=base_pred(train_df)\n",
        "base_val=base_pred(val_df)\n",
        "base_test=base_pred(test_df)\n",
        "\n",
        "val_performance['Baseline']=base_val[0]\n",
        "test_performance['Baseline']=base_test[0]\n",
        "train_preds['Baseline']=base_train[1].tolist()\n",
        "val_preds['Baseline']=base_val[1].tolist()\n",
        "test_preds['Baseline']=base_test[1].tolist()\n",
        "\n",
        "\n",
        "#LSTM\n",
        "lstm_model=Sequential([\n",
        "    LSTM(256, return_sequences=True),\n",
        "    Dense(1)\n",
        "])\n",
        "#Compile\n",
        "lstm_model.compile(loss=tf.keras.losses.MeanSquaredError(),\n",
        "                optimizer=tf.keras.optimizers.Adam(),\n",
        "                metrics=[tf.keras.metrics.MeanAbsoluteError()])\n",
        "\n",
        "#Fit the model to the training data\n",
        "stop_criteria = tf.keras.callbacks.EarlyStopping(monitor='val_loss', restore_best_weights=True, patience=20, mode='min')\n",
        "lstm_history=lstm_model.fit(window.train, epochs=200, validation_data=window.val, callbacks=[stop_criteria], verbose=0)\n",
        "print('The LSTM model stopped after ',len(lstm_history.history['val_loss']),' epochs')\n",
        "#Capture Results\n",
        "val_performance['LSTM'] = lstm_model.evaluate(window.val, verbose=0)\n",
        "test_performance['LSTM'] = lstm_model.evaluate(window.test, verbose=0)\n",
        "train_preds['LSTM']=lstm_model.predict(window.train, verbose=0).flatten().tolist()\n",
        "val_preds['LSTM']=lstm_model.predict(window.val, verbose=0).flatten().tolist()\n",
        "test_preds['LSTM']=lstm_model.predict(window.test, verbose=0).flatten().tolist()\n",
        "\n",
        "#GRU\n",
        "GRU_model=Sequential([\n",
        "    GRU(128, return_sequences=True),\n",
        "    Dense(1)\n",
        "])\n",
        "#Compile\n",
        "GRU_model.compile(loss=tf.keras.losses.MeanSquaredError(),\n",
        "                optimizer=tf.keras.optimizers.Adam(),\n",
        "                metrics=[tf.keras.metrics.MeanAbsoluteError()])\n",
        "#Fit the model to the training data\n",
        "stop_criteria = tf.keras.callbacks.EarlyStopping(monitor='val_loss', restore_best_weights=True, patience=20, mode='min')\n",
        "GRU_history=GRU_model.fit(window.train, epochs=200, validation_data=window.val, verbose=0)\n",
        "print('The GRU model stopped after ',len(GRU_history.history['val_loss']),' epochs')\n",
        "#Capture Results\n",
        "val_performance['GRU'] = GRU_model.evaluate(window.val, verbose=0)\n",
        "test_performance['GRU'] = GRU_model.evaluate(window.test, verbose=0)\n",
        "train_preds['GRU']=GRU_model.predict(window.train, verbose=0).flatten().tolist()\n",
        "val_preds['GRU']=GRU_model.predict(window.val, verbose=0).flatten().tolist()\n",
        "test_preds['GRU']=GRU_model.predict(window.test, verbose=0).flatten().tolist()"
      ],
      "metadata": {
        "colab": {
          "base_uri": "https://localhost:8080/"
        },
        "id": "gjGzDfn8xJnT",
        "outputId": "2b10a14a-f869-4042-bc38-2d091b820213"
      },
      "execution_count": 170,
      "outputs": [
        {
          "output_type": "stream",
          "name": "stdout",
          "text": [
            "The LSTM model stopped after  59  epochs\n",
            "The GRU model stopped after  200  epochs\n"
          ]
        }
      ]
    },
    {
      "cell_type": "markdown",
      "source": [
        "## Results and Analysis\n",
        "As previously stated in the model building section, several hyperparameters were tuned, and the best performing models of each architecture were retained for the report. Let's plot the mean absolute error (MAE). To make the results less ambiguous, we will convert the metrics back to dollar values before constructing the plot."
      ],
      "metadata": {
        "id": "O1PB-4Z8xKUV"
      }
    },
    {
      "cell_type": "code",
      "source": [
        "#Create MAE Dataframe\n",
        "models=list(val_performance.keys())\n",
        "MAE_val=[]\n",
        "MAE_test=[]\n",
        "for model in models:\n",
        "  MAE_val.append(val_performance[model][1])\n",
        "  MAE_test.append(test_performance[model][1])\n",
        "MAE=pd.DataFrame({'Model':models, 'Val':MAE_val, 'Test':MAE_test})\n",
        "#Convert Units back to dollars\n",
        "MAE['Val']=(MAE['Val']*train_std['HV'])\n",
        "MAE['Test']=(MAE['Test']*train_std['HV'])\n",
        "#Construct the Plot\n",
        "MAE.plot(x='Model', y=['Val', 'Test'], kind='bar')\n",
        "plt.xlabel(\"Model\")\n",
        "plt.ylabel(\"MAE ($)\")\n",
        "plt.title(\"MAE Performance\")"
      ],
      "metadata": {
        "colab": {
          "base_uri": "https://localhost:8080/",
          "height": 534
        },
        "id": "WXoMt8LBxOC6",
        "outputId": "0e7f706e-d558-41bb-c236-64496cf3c0b7"
      },
      "execution_count": 171,
      "outputs": [
        {
          "output_type": "execute_result",
          "data": {
            "text/plain": [
              "Text(0.5, 1.0, 'MAE Performance')"
            ]
          },
          "metadata": {},
          "execution_count": 171
        },
        {
          "output_type": "display_data",
          "data": {
            "text/plain": [
              "<Figure size 640x480 with 1 Axes>"
            ],
            "image/png": "[encoded data removed]"
          },
          "metadata": {}
        }
      ]
    },
    {
      "cell_type": "markdown",
      "source": [
        "Interestingly, the base model appears to slightly outperform the best LSTM model, and the best GRU model performs the worst. This highlights that deep learning is not magic. Sometimes a simpler solution is just as good, if not better, than a more complex one. I suspect that if we were to try to project out multiple months instead of just 1, the results might differ. However, that was not the goal of the project, and I do not want to manipulate the experiment to produce the results I expected.\n",
        "\n",
        "Let's also plot predictions vs. months."
      ],
      "metadata": {
        "id": "pHi7mMnEru57"
      }
    },
    {
      "cell_type": "code",
      "source": [
        "preds=[]\n",
        "actual=test_df['HV'].values[1:]\n",
        "for model in models:\n",
        "  preds.append(test_preds[model])\n",
        "results=pd.DataFrame({'Actual': actual, 'Base':preds[0], 'LSTM':preds[1], 'GRU':preds[2]})\n",
        "#Convert Units back to dollars\n",
        "results=(results*train_std['HV'])+train_mean['HV']\n",
        "x = results.index.values\n",
        "plt.plot(x, results['Actual'], label='Actual')\n",
        "plt.scatter(x, results['Base'], marker=\"o\", label='Base')\n",
        "plt.scatter(x, results['LSTM'], marker=\"^\", label='LSTM')\n",
        "plt.scatter(x, results['GRU'], marker=\"s\", label='GRU')\n",
        "\n",
        "plt.xlabel('Month')\n",
        "plt.ylabel('Home Value ($)')\n",
        "plt.legend()\n",
        "plt.title('Prediction Test Results')\n",
        "plt.show()"
      ],
      "metadata": {
        "colab": {
          "base_uri": "https://localhost:8080/",
          "height": 472
        },
        "id": "GXVf-KnPmD3F",
        "outputId": "490e449c-0f94-4dbd-8f34-4fc49d01afbd"
      },
      "execution_count": 183,
      "outputs": [
        {
          "output_type": "display_data",
          "data": {
            "text/plain": [
              "<Figure size 640x480 with 1 Axes>"
            ],
            "image/png": "[encoded data removed]"
          },
          "metadata": {}
        }
      ]
    },
    {
      "cell_type": "markdown",
      "source": [
        "## Conclusion and Future Work\n",
        "Using neural networks to predict housing market trends is certainly possible, but it does not outperform the previous month estimate, which is the current solution, for our dataset. It is also important to note that neural networks, while still technically supervised learning, are less interpretable than other supervised methods and are harder to extract explanatory meaning from the model. In other words, if the only goal is to predict a future price, neural networks are a powerful tool. However, if the goal is to explain in more detail how the individual input variables affect the market price, other approaches may be more effective.\n",
        "\n",
        "If I were to develop this project further, I would experiment with making predictions for slightly longer periods, such as 3-6 months out. I would also work to develop a generic model that is not based on a single metro area. I would incorporate categorical variables such as the state, metro area, and metro size into the model. I would also experiment with different architectures that have a combination of convolutional neural network (CNN) and recurrent neural network (RNN) layers, like what is discussed by the authors of the paper \"LSTM Fully Convolutional Networks for Time Series Classification\" [6]. The CNN layers would be used to learn longer-term trends associated with the specific states and metro areas. The RNN layer would be similar to what was already produced here. I might also try to add more features, such as rental prices/inventory or overall sentiment regarding a metro area."
      ],
      "metadata": {
        "id": "6nYSVlb6xOfT"
      }
    },
    {
      "cell_type": "markdown",
      "source": [
        "### Sources\n",
        "\n",
        "1. https://www.zillow.com/research/data/\n",
        "\n",
        "2. https://www.census.gov/library/stories/2022/05/population-shifts-in-cities-and-towns-one-year-into-pandemic.html\n",
        "\n",
        "3. https://www.huduser.gov/portal/pdredge/pdr-edge-featd-article-022123.html\n",
        "\n",
        "4. https://www.tensorflow.org/tutorials/structured_data/time_series\n",
        "\n",
        "5. https://towardsdatascience.com/illustrated-guide-to-lstms-and-gru-s-a-step-by-step-explanation-44e9eb85bf21\n",
        "\n",
        "6. https://ieeexplore.ieee.org/stamp/stamp.jsp?tp=&arnumber=8141873"
      ],
      "metadata": {
        "id": "AD8GALAvxZXH"
      }
    }
  ]
}